{
 "cells": [
  {
   "cell_type": "markdown",
   "metadata": {
    "id": "7W2eNeq-E7vc"
   },
   "source": [
    "# **Laboratório 01 - Expansão em Séries de Taylor**\n",
    "\n",
    "Aluno:\n",
    "\n",
    "**Exemplo 01** - Expansão da função $f(x) = e^x$, via Série de MacLaurin\n",
    "\n",
    "$$\n",
    "f(x) = e^x \\approx \\sum_{k=0}^{N}\\frac{x^k}{k!}\n",
    "$$"
   ]
  },
  {
   "cell_type": "code",
   "execution_count": 2,
   "metadata": {
    "id": "efy5QvIYEm8l"
   },
   "outputs": [],
   "source": [
    "import numpy as np\n",
    "import matplotlib.pyplot as plt\n",
    "import math as mt"
   ]
  },
  {
   "cell_type": "markdown",
   "metadata": {
    "id": "2QQPUnV9HsQ2"
   },
   "source": [
    "**Exemplo 02** - Implementar a função\n",
    "\n",
    "\\begin{equation}\n",
    "     f(x) = sen(x) \\approx \\sum_{k=0}^{N} (-1)^k \\frac{x^{2k+1}}{(2k+1)!}\n",
    "\\end{equation}"
   ]
  },
  {
   "cell_type": "code",
   "execution_count": null,
   "metadata": {
    "id": "5Rk_v_k9PYSG"
   },
   "outputs": [],
   "source": []
  },
  {
   "cell_type": "markdown",
   "metadata": {
    "id": "yY_N3H_8KFuQ"
   },
   "source": [
    "**Exemplo 03** : Use a expansão em Série de MacLaurin para mostrar que\n",
    "\n",
    "\\begin{equation}\n",
    "e^{ix} = cos\\,x + i\\,sen\\,x,\\,\\,\\,\\,\\,\\,i = \\sqrt{-1}.\n",
    "\\end{equation}"
   ]
  },
  {
   "cell_type": "code",
   "execution_count": null,
   "metadata": {
    "id": "iUypXYAKPZG2"
   },
   "outputs": [],
   "source": []
  },
  {
   "cell_type": "markdown",
   "metadata": {
    "id": "Tvk7rdVvNAEA"
   },
   "source": [
    "# **Exercícios**\n",
    "\n",
    "**01** - O valor de $\\pi$ pode ser aproximado por meio da seguinte expansão em série:\n",
    "\n",
    "\\begin{equation}\n",
    "\\pi \\approx 4 \\sum_{i=1}^{n} (-1)^{i-1} \\frac{1}{2i - 1}\n",
    "\\end{equation}\n",
    "\n",
    "escreva uma função que retorne o valor aproximado de $\\pi$ que receba como parâmetro de entrada os $n$ termos da série. Calcule o erro relativo para diferentes valores de $n$. Por exemplo: $n = 5,\\,10,\\,20,\\,30.$\n",
    "\n"
   ]
  },
  {
   "cell_type": "code",
   "execution_count": 1,
   "metadata": {
    "id": "jDif6WoJ1pR5",
    "scrolled": true
   },
   "outputs": [
    {
     "name": "stdin",
     "output_type": "stream",
     "text": [
      "Digite o valor de N:  5\n"
     ]
    },
    {
     "name": "stdout",
     "output_type": "stream",
     "text": [
      "O valor de da Aproximaçao com 5: 3.3396825396825403 \n",
      "O erro relativo em %: 13.307984790874528\n"
     ]
    }
   ],
   "source": [
    "def pi(n):\n",
    "    valor = 0\n",
    "    for i in range (1,n+1):\n",
    "        valor += pow(-1, (i-1)) / (2*i - 1) \n",
    "    \n",
    "    \n",
    "    return 4*valor\n",
    "\n",
    "n = int(input(\"Digite o valor de N: \"))\n",
    "\n",
    "erro_relativo = (abs(pi(n)-pi(n-1)) / pi(n))*100\n",
    "\n",
    "print(f\"O valor de da Aproximaçao com {n}: {pi(n)} \")\n",
    "print(f\"O erro relativo em %: {erro_relativo}\")"
   ]
  },
  {
   "cell_type": "markdown",
   "metadata": {
    "id": "2SyX1-yV1p7H"
   },
   "source": [
    "**02** - Use a expansão em série de Taylor para mostrar que\n",
    "\\begin{equation}\n",
    "    \\frac{sen\\,x}{x} \\approx 1\n",
    "\\end{equation}\n",
    "com um valor bem pequeno em $x.$\n",
    "\n"
   ]
  },
  {
   "cell_type": "code",
   "execution_count": 53,
   "metadata": {
    "id": "kaJgk0IT1sbg"
   },
   "outputs": [
    {
     "name": "stdout",
     "output_type": "stream",
     "text": [
      "Para um x bem pequeno, sen(x)/x é aproximadamente 1\n",
      "Valor da razão com x = 0.002, razão = 0.9999993333334666\n"
     ]
    }
   ],
   "source": [
    "def seno(x,n):\n",
    "    valor_aproximado = 0\n",
    "    for k in range(n):\n",
    "        valor_aproximado += ((-1)**k) * (pow(x,2*k+1)/mt.factorial(2*k+1))\n",
    "\n",
    "    return valor_aproximado\n",
    "    \n",
    "x = 0.002\n",
    "razao = seno(x,50)/x\n",
    "print(\"Para um x bem pequeno, sen(x)/x é aproximadamente 1\")\n",
    "print(f\"Valor da razão com x = {x}, razão = {razao}\")"
   ]
  },
  {
   "cell_type": "markdown",
   "metadata": {
    "id": "q9uSAg1R1tGH"
   },
   "source": [
    "**03** - Escreva a expansão em série de Taylor para $f(x) = e^{x^2}$ em torno da origem. Defina uma função $exp$\\_$dupla(x,n),$ para calcular uma aproximação para $f(x)$ utilizando os $n$ primeiros termos da expansão. Adapte a função para receber como parâmetro de entrada um vetor.\n",
    "\n"
   ]
  },
  {
   "cell_type": "code",
   "execution_count": 6,
   "metadata": {
    "id": "3yYljmEk1vc2"
   },
   "outputs": [
    {
     "name": "stdout",
     "output_type": "stream",
     "text": [
      "54.15414462081129\n"
     ]
    }
   ],
   "source": [
    "def e_x2(x,n):\n",
    "    valor = 0\n",
    "    for k in range(n):\n",
    "        valor += pow(x,2*k) / mt.factorial(k)\n",
    "\n",
    "    return valor\n",
    "\n",
    "#O vetor no paramentro será de valores de x ou um valor para n e outro para x?\n"
   ]
  },
  {
   "cell_type": "markdown",
   "metadata": {
    "id": "xQJOEzcU1vye"
   },
   "source": [
    "**04** - Sabendo que o seno hiperbólico pode ser obtido por meio da seguinte expansão,\n",
    "\\begin{equation}\n",
    "    senh\\,x = \\sum_{k=0}^{\\infty} \\frac{x^{2k+1}}{(2k+1)!}\n",
    "\\end{equation}\n",
    "o cosseno hiperbólico por,\n",
    "\\begin{equation}\n",
    "    cosh\\,x = \\sum_{k=0}^{\\infty} \\frac{x^{2k}}{(2k)!}\n",
    "\\end{equation}\n",
    "e a tangente hiperbólica é dada por,\n",
    "\\begin{equation}\n",
    "    tanh\\,x = \\frac{senh\\,x}{cosh\\,x}\n",
    "\\end{equation}\n",
    "calcule a tangente hiperbólica de $x_0 = 0,5$ a partir das funções $ senh\\,x$ e $ cosh\\,x$, com um erro relatico de aproximadamente $10^{-5}.$ Gerar os gráficos e comparar com a função $np.tanh(x)$."
   ]
  },
  {
   "cell_type": "code",
   "execution_count": 8,
   "metadata": {
    "id": "gSBrkHyz1xHg"
   },
   "outputs": [
    {
     "name": "stdout",
     "output_type": "stream",
     "text": [
      "Valor calculado numericamente  0.4621171922898218\n",
      "Valor calculador pela np.tanh(x) 0.46211715726000974\n"
     ]
    },
    {
     "data": {
      "image/png": "[encoded data removed]",
      "text/plain": [
       "<Figure size 640x480 with 2 Axes>"
      ]
     },
     "metadata": {},
     "output_type": "display_data"
    }
   ],
   "source": [
    "def senh(x,n):\n",
    "    valor_aproximado = 0.0\n",
    "    for k in range(n):\n",
    "        valor_aproximado += float(pow(x,2*k+1) / mt.factorial(2*k+1))\n",
    "\n",
    "    return valor_aproximado\n",
    "\n",
    "def cosh(x,n):\n",
    "    valor_aproximado = 0.0\n",
    "    for k in range(n):\n",
    "        valor_aproximado += float(pow(x,2*k) / mt.factorial(2*k))\n",
    "\n",
    "    return valor_aproximado\n",
    "\n",
    "def tangh(x):\n",
    "    cont = 1\n",
    "    x0 = 0\n",
    "    valor_aprox = 0.0\n",
    "    \n",
    "    while True:\n",
    "\n",
    "        valor_aprox = senh(x,cont) / cosh(x,cont)\n",
    "        \n",
    "        erro = abs((valor_aprox - x0)) \n",
    "\n",
    "        #Condição para que não haja divisão de um numero muito pequeno\n",
    "        if cosh(x,cont) < 1e-10:\n",
    "            break\n",
    "\n",
    "        if erro < 10e-5:\n",
    "            break\n",
    "    \n",
    "        cont +=1\n",
    "        x0 = valor_aprox\n",
    "\n",
    "    return valor_aprox\n",
    "\n",
    "print(\"Valor calculado numericamente \" , tangh(0.5))\n",
    "print(\"Valor calculador pela np.tanh(x)\", np.tanh(0.5))\n",
    "\n",
    "\n",
    "x = np.linspace(-7,9,100)\n",
    "valores_tangh = []\n",
    "for i in x:\n",
    "    valores_tangh.append(tangh(i))\n",
    "\n",
    "plt.subplot(1,2,1)\n",
    "plt.xlabel(\"x\")\n",
    "plt.ylabel(\"y\")\n",
    "plt.title(\"np.tanh(x)\")\n",
    "y = np.tanh(x)\n",
    "plt.plot(x,y,color=\"blue\")\n",
    "plt.grid()\n",
    "\n",
    "plt.subplot(1,2,2)\n",
    "plt.xlabel(\"x\")\n",
    "plt.ylabel(\"y\")\n",
    "plt.title(\"tanh(x) por expansao de taylor\")\n",
    "plt.plot(x,valores_tangh, color=\"red\")\n",
    "plt.grid()\n",
    "plt.subplots_adjust(wspace=1)\n",
    "\n",
    "plt.show()"
   ]
  },
  {
   "cell_type": "code",
   "execution_count": null,
   "metadata": {},
   "outputs": [],
   "source": []
  },
  {
   "cell_type": "code",
   "execution_count": null,
   "metadata": {},
   "outputs": [],
   "source": []
  }
 ],
 "metadata": {
  "colab": {
   "authorship_tag": "ABX9TyMRHLfPgZfMuFyFDdgSiDqP",
   "collapsed_sections": [
    "Tvk7rdVvNAEA"
   ],
   "provenance": []
  },
  "kernelspec": {
   "display_name": "Python 3 (ipykernel)",
   "language": "python",
   "name": "python3"
  },
  "language_info": {
   "codemirror_mode": {
    "name": "ipython",
    "version": 3
   },
   "file_extension": ".py",
   "mimetype": "text/x-python",
   "name": "python",
   "nbconvert_exporter": "python",
   "pygments_lexer": "ipython3",
   "version": "3.10.12"
  }
 },
 "nbformat": 4,
 "nbformat_minor": 4
}
