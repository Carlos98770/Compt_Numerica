{
 "cells": [
  {
   "cell_type": "markdown",
   "metadata": {
    "id": "7W2eNeq-E7vc"
   },
   "source": [
    "# **Laboratório 01 - Expansão em Séries de Taylor**\n",
    "\n",
    "Aluno:\n",
    "\n",
    "**Exemplo 01** - Expansão da função $f(x) = e^x$, via Série de MacLaurin\n",
    "\n",
    "$$\n",
    "f(x) = e^x \\approx \\sum_{k=0}^{N}\\frac{x^k}{k!}\n",
    "$$"
   ]
  },
  {
   "cell_type": "code",
   "execution_count": 48,
   "metadata": {
    "id": "efy5QvIYEm8l"
   },
   "outputs": [],
   "source": [
    "import numpy as np\n",
    "import matplotlib.pyplot as plt\n",
    "import math as mt"
   ]
  },
  {
   "cell_type": "markdown",
   "metadata": {
    "id": "2QQPUnV9HsQ2"
   },
   "source": [
    "**Exemplo 02** - Implementar a função\n",
    "\n",
    "\\begin{equation}\n",
    "     f(x) = sen(x) \\approx \\sum_{k=0}^{N} (-1)^k \\frac{x^{2k+1}}{(2k+1)!}\n",
    "\\end{equation}"
   ]
  },
  {
   "cell_type": "code",
   "execution_count": null,
   "metadata": {
    "id": "5Rk_v_k9PYSG"
   },
   "outputs": [],
   "source": []
  },
  {
   "cell_type": "markdown",
   "metadata": {
    "id": "yY_N3H_8KFuQ"
   },
   "source": [
    "**Exemplo 03** : Use a expansão em Série de MacLaurin para mostrar que\n",
    "\n",
    "\\begin{equation}\n",
    "e^{ix} = cos\\,x + i\\,sen\\,x,\\,\\,\\,\\,\\,\\,i = \\sqrt{-1}.\n",
    "\\end{equation}"
   ]
  },
  {
   "cell_type": "code",
   "execution_count": null,
   "metadata": {
    "id": "iUypXYAKPZG2"
   },
   "outputs": [],
   "source": []
  },
  {
   "cell_type": "markdown",
   "metadata": {
    "id": "Tvk7rdVvNAEA"
   },
   "source": [
    "# **Exercícios**\n",
    "\n",
    "**01** - O valor de $\\pi$ pode ser aproximado por meio da seguinte expansão em série:\n",
    "\n",
    "\\begin{equation}\n",
    "\\pi \\approx 4 \\sum_{i=1}^{n} (-1)^{i-1} \\frac{1}{2i - 1}\n",
    "\\end{equation}\n",
    "\n",
    "escreva uma função que retorne o valor aproximado de $\\pi$ que receba como parâmetro de entrada os $n$ termos da série. Calcule o erro relativo para diferentes valores de $n$. Por exemplo: $n = 5,\\,10,\\,20,\\,30.$\n",
    "\n"
   ]
  },
  {
   "cell_type": "code",
   "execution_count": 46,
   "metadata": {
    "id": "jDif6WoJ1pR5",
    "scrolled": true
   },
   "outputs": [
    {
     "name": "stdout",
     "output_type": "stream",
     "text": [
      "Digite o valor de N: 100\n",
      "O valor de da Aproximaçao com 100: 3.1315929035585537 \n",
      "O erro relativo em %: 0.64186192559454\n"
     ]
    }
   ],
   "source": [
    "def pi(n):\n",
    "    valor = 0\n",
    "    for i in range (1,n+1):\n",
    "        valor += pow(-1, (i-1)) / (2*i - 1) \n",
    "    \n",
    "    \n",
    "    return 4*valor\n",
    "\n",
    "n = int(input(\"Digite o valor de N: \"))\n",
    "\n",
    "erro_relativo = (abs(pi(n)-pi(n-1)) / pi(n))*100\n",
    "\n",
    "print(f\"O valor de da Aproximaçao com {n}: {pi(n)} \")\n",
    "print(f\"O erro relativo em %: {erro_relativo}\")\n",
    "\n",
    "\n",
    "    \n",
    "    \n",
    "    "
   ]
  },
  {
   "cell_type": "markdown",
   "metadata": {
    "id": "2SyX1-yV1p7H"
   },
   "source": [
    "**02** - Use a expansão em série de Taylor para mostrar que\n",
    "\\begin{equation}\n",
    "    \\frac{sen\\,x}{x} \\approx 1\n",
    "\\end{equation}\n",
    "com um valor bem pequeno em $x.$\n",
    "\n"
   ]
  },
  {
   "cell_type": "code",
   "execution_count": 53,
   "metadata": {
    "id": "kaJgk0IT1sbg"
   },
   "outputs": [
    {
     "name": "stdout",
     "output_type": "stream",
     "text": [
      "Para um x bem pequeno, sen(x)/x é aproximadamente 1\n",
      "Valor da razão com x = 0.002, razão = 0.9999993333334666\n"
     ]
    }
   ],
   "source": [
    "def seno(x,n):\n",
    "    valor_aproximado = 0\n",
    "    for k in range(n):\n",
    "        valor_aproximado += ((-1)**k) * (pow(x,2*k+1)/mt.factorial(2*k+1))\n",
    "\n",
    "    return valor_aproximado\n",
    "    \n",
    "x = 0.002\n",
    "razao = seno(x,50)/x\n",
    "print(\"Para um x bem pequeno, sen(x)/x é aproximadamente 1\")\n",
    "print(f\"Valor da razão com x = {x}, razão = {razao}\")\n",
    "    \n",
    "    \n",
    "    \n",
    "    \n",
    "    \n",
    "    \n",
    "    \n",
    "    "
   ]
  },
  {
   "cell_type": "markdown",
   "metadata": {
    "id": "q9uSAg1R1tGH"
   },
   "source": [
    "**03** - Escreva a expansão em série de Taylor para $f(x) = e^{x^2}$ em torno da origem. Defina uma função $exp$\\_$dupla(x,n),$ para calcular uma aproximação para $f(x)$ utilizando os $n$ primeiros termos da expansão. Adapte a função para receber como parâmetro de entrada um vetor.\n",
    "\n"
   ]
  },
  {
   "cell_type": "code",
   "execution_count": null,
   "metadata": {
    "id": "3yYljmEk1vc2"
   },
   "outputs": [],
   "source": []
  },
  {
   "cell_type": "markdown",
   "metadata": {
    "id": "xQJOEzcU1vye"
   },
   "source": [
    "**04** - Sabendo que o seno hiperbólico pode ser obtido por meio da seguinte expansão,\n",
    "\\begin{equation}\n",
    "    senh\\,x = \\sum_{k=0}^{\\infty} \\frac{x^{2k+1}}{(2k+1)!}\n",
    "\\end{equation}\n",
    "o cosseno hiperbólico por,\n",
    "\\begin{equation}\n",
    "    cosh\\,x = \\sum_{k=0}^{\\infty} \\frac{x^{2k}}{(2k)!}\n",
    "\\end{equation}\n",
    "e a tangente hiperbólica é dada por,\n",
    "\\begin{equation}\n",
    "    tanh\\,x = \\frac{senh\\,x}{cosh\\,x}\n",
    "\\end{equation}\n",
    "calcule a tangente hiperbólica de $x_0 = 0,5$ a partir das funções $ senh\\,x$ e $ cosh\\,x$, com um erro relatico de aproximadamente $10^{-5}.$ Gerar os gráficos e comparar com a função $np.tanh(x)$."
   ]
  },
  {
   "cell_type": "code",
   "execution_count": null,
   "metadata": {
    "id": "gSBrkHyz1xHg"
   },
   "outputs": [],
   "source": []
  }
 ],
 "metadata": {
  "colab": {
   "authorship_tag": "ABX9TyMRHLfPgZfMuFyFDdgSiDqP",
   "collapsed_sections": [
    "Tvk7rdVvNAEA"
   ],
   "provenance": []
  },
  "kernelspec": {
   "display_name": "Python 3 (ipykernel)",
   "language": "python",
   "name": "python3"
  },
  "language_info": {
   "codemirror_mode": {
    "name": "ipython",
    "version": 3
   },
   "file_extension": ".py",
   "mimetype": "text/x-python",
   "name": "python",
   "nbconvert_exporter": "python",
   "pygments_lexer": "ipython3",
   "version": "3.9.7"
  }
 },
 "nbformat": 4,
 "nbformat_minor": 1
}
