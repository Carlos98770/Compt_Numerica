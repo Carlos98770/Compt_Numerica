{
 "cells": [
  {
   "cell_type": "code",
   "execution_count": 19,
   "id": "6b8f14cf",
   "metadata": {},
   "outputs": [
    {
     "name": "stdout",
     "output_type": "stream",
     "text": [
      "o xr da interaçao 0 é -0.5\n",
      "o xr da interaçao 1 é 0.25\n",
      "o xr da interaçao 2 é 0.625\n",
      "o xr da interaçao 3 é 0.4375\n",
      "o xr da interaçao 4 é 0.53125\n",
      "o xr da interaçao 5 é 0.578125\n",
      "0.578125\n"
     ]
    }
   ],
   "source": [
    "import math as mt\n",
    "import numpy as np\n",
    "import matplotlib.pyplot as plt\n",
    "def bissercao(a,b,f,tol):\n",
    "    if f(a)*f(b) >= 0:\n",
    "        return \"Intervalo invalido\"\n",
    "    x0 = 0\n",
    "    cont = 0\n",
    "    while True:\n",
    "        xr = (a+b)/2\n",
    "\n",
    "        if f(a)*f(xr) < 0:\n",
    "            b = xr\n",
    "        else:\n",
    "            a = xr\n",
    "\n",
    "        if xr!=0:\n",
    "            erro = (xr-x0)/xr\n",
    "        else:\n",
    "            erro = (xr-x0)\n",
    "        print(f\"o xr da interaçao {cont} é {xr}\")\n",
    "        if abs(erro) <= tol:\n",
    "            return xr\n",
    "\n",
    "        x0 = xr\n",
    "        cont +=1\n",
    "            \n",
    "f = lambda x: x* np.exp(x) - 1\n",
    "\n",
    "\n",
    "\n",
    "a = bissercao(-2,1,f,10e-2)\n",
    "print(a)"
   ]
  },
  {
   "cell_type": "code",
   "execution_count": 27,
   "id": "7393eb7f-d0fd-474e-b730-240c28806951",
   "metadata": {},
   "outputs": [
    {
     "name": "stdout",
     "output_type": "stream",
     "text": [
      "1.0986122886681098\n",
      "1.0849082880969376\n"
     ]
    }
   ],
   "source": [
    "import math as mt\n",
    "import numpy as np\n",
    "import matplotlib.pyplot as plt\n",
    "def taylor(x,n):\n",
    "    valor_aprox = 0\n",
    "    for k in range(n):\n",
    "        valor_aprox += 2*(((1+k)*pow(x,2*k+1)) / mt.factorial(2*k+1))\n",
    "\n",
    "\n",
    "    return valor_aprox\n",
    "\n",
    "x = 0.5\n",
    "n = 50\n",
    "valor_analitico = np.log(3)\n",
    "a = taylor(x,n)\n",
    "print(valor_analitico)\n",
    "print(a)"
   ]
  },
  {
   "cell_type": "code",
   "execution_count": 28,
   "id": "f78967a1-43d2-4618-9c70-1783b49163e4",
   "metadata": {},
   "outputs": [
    {
     "name": "stdout",
     "output_type": "stream",
     "text": [
      "1.8001953125\n",
      "1.62067942489848\n",
      "1.4599078433344803\n",
      "1.317236546394567\n",
      "1.193888687069557\n",
      "1.0947918470322207\n",
      "1.0947918470322207\n"
     ]
    }
   ],
   "source": [
    "R = 1\n",
    "m = 10\n",
    "\n",
    "f = lambda x: pow(x,m) - R\n",
    "df = lambda x: m*pow(x,m-1)\n",
    "df2 = lambda x: (m-1)*m*pow(x,m-2)\n",
    "\n",
    "def newton(x0,tol):\n",
    "    if f(x0)* df2(x0) <= 0:\n",
    "        return \"Escolha um x0 adequado\"\n",
    "    \n",
    "    while True:\n",
    "        xr = x0 - (f(x0)/df(x0))\n",
    "        print(xr)\n",
    "        if abs(xr-x0) <= tol:\n",
    "            return xr\n",
    "\n",
    "        x0 = xr\n",
    "\n",
    "a  = newton(2,10e-2)\n",
    "print(a)\n"
   ]
  },
  {
   "cell_type": "code",
   "execution_count": null,
   "id": "dd5c4553-b34b-483f-a99f-556bd3ae6a31",
   "metadata": {},
   "outputs": [],
   "source": []
  }
 ],
 "metadata": {
  "kernelspec": {
   "display_name": "Python 3 (ipykernel)",
   "language": "python",
   "name": "python3"
  },
  "language_info": {
   "codemirror_mode": {
    "name": "ipython",
    "version": 3
   },
   "file_extension": ".py",
   "mimetype": "text/x-python",
   "name": "python",
   "nbconvert_exporter": "python",
   "pygments_lexer": "ipython3",
   "version": "3.10.12"
  }
 },
 "nbformat": 4,
 "nbformat_minor": 5
}
