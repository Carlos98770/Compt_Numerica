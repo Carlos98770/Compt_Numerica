{
 "cells": [
  {
   "cell_type": "markdown",
   "id": "86a04e4e-3c9b-4f20-a71d-46d69d0cba8a",
   "metadata": {},
   "source": [
    "Resoluções de sistemas lineares por decomposição L.U\n"
   ]
  },
  {
   "cell_type": "code",
   "execution_count": 94,
   "id": "e1362de5-de2b-4d11-a7f3-1d8a0a796c14",
   "metadata": {},
   "outputs": [
    {
     "data": {
      "text/plain": [
       "array([[ 1,  3,  1],\n",
       "       [ 0, -5,  1],\n",
       "       [ 0,  1,  3]])"
      ]
     },
     "execution_count": 94,
     "metadata": {},
     "output_type": "execute_result"
    }
   ],
   "source": [
    "import numpy as np\n",
    "\n",
    "a = np.array([[1,3,1],[2,1,3],[0,1,3]])\n",
    "def troca_linha(a):\n",
    "    for i in range(len(a) - 1):\n",
    "        for j in range(len(a[i])):\n",
    "            if a[i][j] == 0:\n",
    "                aux = np.copy(a[i,:])\n",
    "                a[i,:] = a[(i+1),:]\n",
    "                a[(i+1),:] = aux\n",
    "    return a\n",
    "\n",
    "def L(a):\n",
    "    L = np.eye(len(a))\n",
    "    ls = []\n",
    "    for i in range(len(a)):\n",
    "        for j in range(len(a[i]) - 1):\n",
    "            if i > j:\n",
    "                l = a[i][j] / a[i-1][j]\n",
    "                L[i][j] = l\n",
    "                ls.append(l)\n",
    "                \n",
    "    return L,ls\n",
    "\n",
    "def U(a):\n",
    "    l, ls = L(a)\n",
    "    #Resolver o problema das interaçoes, preciso de 3 interaçoes\n",
    "    for i in range(len(a) - 1):\n",
    "        a[i+1,:] = a[i+1,:] - ls[i]*a[i,:]\n",
    "\n",
    "    return a\n",
    "        \n",
    "    \n",
    "\n",
    "\n",
    "U(a)\n"
   ]
  },
  {
   "cell_type": "code",
   "execution_count": null,
   "id": "ccfae767-636a-43f6-8eb7-4262a8266b15",
   "metadata": {},
   "outputs": [],
   "source": []
  },
  {
   "cell_type": "code",
   "execution_count": null,
   "id": "5df26859-9eeb-49cc-a7c2-568e02c84ef5",
   "metadata": {},
   "outputs": [],
   "source": []
  }
 ],
 "metadata": {
  "kernelspec": {
   "display_name": "Python 3 (ipykernel)",
   "language": "python",
   "name": "python3"
  },
  "language_info": {
   "codemirror_mode": {
    "name": "ipython",
    "version": 3
   },
   "file_extension": ".py",
   "mimetype": "text/x-python",
   "name": "python",
   "nbconvert_exporter": "python",
   "pygments_lexer": "ipython3",
   "version": "3.10.12"
  }
 },
 "nbformat": 4,
 "nbformat_minor": 5
}
