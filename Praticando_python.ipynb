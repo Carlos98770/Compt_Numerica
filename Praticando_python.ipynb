{
 "cells": [
  {
   "cell_type": "code",
   "execution_count": 18,
   "id": "d1f29333-91e6-45fc-a889-dac2afc7853c",
   "metadata": {},
   "outputs": [],
   "source": [
    "import math\n",
    "import numpy as np\n",
    "import random"
   ]
  },
  {
   "cell_type": "code",
   "execution_count": 35,
   "id": "f81148ca-4786-45e6-911f-2df0b941d129",
   "metadata": {},
   "outputs": [
    {
     "name": "stdout",
     "output_type": "stream",
     "text": [
      "MARCA: Fiat\n",
      "ANO: 2018\n",
      "COR: Vermelho\n"
     ]
    }
   ],
   "source": [
    "\n",
    "\"\"\"\n",
    "x = random.randint(1,10)\n",
    "while True:\n",
    "    y = float(input(\"Digite um numero\"))\n",
    "    if y > x:\n",
    "        print(\"Muito alto\")\n",
    "    elif y < x:\n",
    "        print(\"Muito baixo\")\n",
    "    else:\n",
    "        print(\"Acertou\")\n",
    "        break\n",
    "\n",
    "lista = [\"cafe,1\", \"chantily,1\"]\n",
    "vetor = []\n",
    "for element in lista:\n",
    "    a = element.split(\",\")\n",
    "    vetor.append(a)\n",
    "print(vetor)\n",
    "                    methods of list\n",
    "\n",
    "                    append()\tAdds an element at the end of the list\n",
    "                    clear()\tRemoves all the elements from the list\n",
    "                    copy()\tReturns a copy of the list\n",
    "                    count()\tReturns the number of elements with the specified value\n",
    "                    extend()\tAdd the elements of a list (or any iterable), to the end of the current list\n",
    "                    index()\tReturns the index of the first element with the specified value\n",
    "                    insert()\tAdds an element at the specified position\n",
    "                    pop()\tRemoves the element at the specified position\n",
    "                    remove()\tRemoves the item with the specified value\n",
    "                    reverse()\tReverses the order of the list\n",
    "                    sort()\tSorts the list\n",
    "\n",
    "\n",
    "\n",
    "\n",
    "\n",
    "\n",
    "\n",
    "                    methods of dictionary\n",
    "                    clear()\tRemoves all the elements from the dictionary\n",
    "                    copy()\tReturns a copy of the dictionary\n",
    "                    fromkeys()\tReturns a dictionary with the specified keys and value\n",
    "                    get()\tReturns the value of the specified key\n",
    "                    items()\tReturns a list containing a tuple for each key value pair\n",
    "                    keys()\tReturns a list containing the dictionary's keys\n",
    "                    pop()\tRemoves the element with the specified key\n",
    "                    popitem()\tRemoves the last inserted key-value pair\n",
    "                    setdefault()\tReturns the value of the specified key. If the key does not exist: insert the key, with the specified value\n",
    "                    update()\tUpdates the dictionary with the specified key-value pairs\n",
    "                    values()\tReturns a list of all the values in the dictionary\n",
    "\"\"\"\n",
    "class Veiculo:\n",
    "    def __init__(self,marca,ano,cor):\n",
    "        self.marca = marca\n",
    "        self.ano = ano\n",
    "        self.cor = cor\n",
    "    def mostrar(self):\n",
    "        print(\"MARCA: \" + self.marca)\n",
    "        print(\"ANO: \" + str(self.ano))\n",
    "        print(\"COR: \" + self.cor)\n",
    "\n",
    "class Carro(Veiculo):\n",
    "    pass\n",
    "        \n",
    "\n",
    "carro = Carro(\"Fiat\",2018,\"Vermelho\")\n",
    "carro.mostrar()\n"
   ]
  },
  {
   "cell_type": "code",
   "execution_count": null,
   "id": "a1a2b7e6-23d4-4486-996b-e4fd7b718f38",
   "metadata": {},
   "outputs": [],
   "source": [
    "\n"
   ]
  }
 ],
 "metadata": {
  "kernelspec": {
   "display_name": "Python 3 (ipykernel)",
   "language": "python",
   "name": "python3"
  },
  "language_info": {
   "codemirror_mode": {
    "name": "ipython",
    "version": 3
   },
   "file_extension": ".py",
   "mimetype": "text/x-python",
   "name": "python",
   "nbconvert_exporter": "python",
   "pygments_lexer": "ipython3",
   "version": "3.10.12"
  }
 },
 "nbformat": 4,
 "nbformat_minor": 5
}
